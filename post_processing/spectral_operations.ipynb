{
 "cells": [
  {
   "cell_type": "markdown",
   "id": "997fb54f",
   "metadata": {},
   "source": [
    "# Post-processing Spectral Operations\n",
    "\n",
    "In a post-processing task, computing derivatives is a common operation. Rayleigh computes derivatives using spectral transforms and recursion relations. This notebook describes a python\n",
    "module that allows the computation of various spectral transforms and derivatives.\n",
    "\n",
    "This notebook assumes that you are familiar with running Rayleigh and comfortable with manipulating the various types of diagnostic outputs using the provided python tools.\n",
    "\n",
    "# I. Generate the Data\n",
    "\n",
    "To fully understand this notebook, a particular model setup with specific outputs must be generated. Start by copying the *c2001_case0_minimal* input example (Boussinesq hydro benchmark) into a working directory and then rename it *main_input*."
   ]
  },
  {
   "cell_type": "markdown",
   "id": "2cae7b27",
   "metadata": {},
   "source": [
    "## Change the radial grid\n",
    "The first modification will be in the problemsize namelist. In the *main_input* file change the *problemsize_namelist* to be:\n",
    "```\n",
    "&problemsize_namelist\n",
    " l_max = 31\n",
    " domain_bounds = 0.53846153846153832d0, 1.04d0, 1.34d0, 1.5384615384615383d0\n",
    " ncheby = 24,16,14\n",
    " dealias_by = 6,4,2\n",
    "/\n",
    "```\n",
    "This will build a radial domain composed of three sub-domains, each with a different resolution. The boundaries of the sub domains are explicitly set and the resulting domain should have an aspect ratio of 0.35 and a shell depth of 1.0, consistent with the chosen benchmark mode."
   ]
  },
  {
   "cell_type": "markdown",
   "id": "38b0c2f1",
   "metadata": {},
   "source": [
    "## Add some output quantities\n",
    "The next modification will be to add specific output quantities. In the same *main_input* file change the *output_namelist* to be:\n",
    "```\n",
    "&output_namelist\n",
    " shellavg_values = 1,2,3,10,19,28,11,20,29,12,21,30\n",
    " shellavg_frequency = 2500\n",
    " shellavg_nrec = 10\n",
    "\n",
    " shellslice_values = 1,2,3,10,19,28,11,20,29,12,21,30\n",
    " shellslice_frequency = 2500\n",
    " shellslice_nrec = 10\n",
    " shellslice_levels_nrm = 0.5, 0.67, 0.8, 0.9\n",
    "\n",
    " shellspectra_values = 1,2,3,10,19,28,11,20,29,12,21,30\n",
    " shellspectra_frequency = 2500\n",
    " shellspectra_nrec = 10\n",
    " shellspectra_levels_nrm = 0.5, 0.67, 0.8, 0.9\n",
    "\n",
    " azavg_values = 1,2,3,10,19,28,11,20,29,12,21,30\n",
    " azavg_frequency = 2500\n",
    " azavg_nrec = 10\n",
    "/\n",
    "```\n",
    "The added quantities correspond to:\n",
    "\n",
    "| Quantity Code | Description |\n",
    "|-------------- | ------------|\n",
    "| 1             | $v_r$ |\n",
    "| 2             | $v_\\theta$ |\n",
    "| 3             | $v_\\phi$ |\n",
    "| 10            | $\\frac{\\partial v_r}{\\partial r}$ |\n",
    "| 19            | $\\frac{\\partial v_r}{\\partial \\theta}$ |\n",
    "| 28            | $\\frac{\\partial v_r}{\\partial \\phi}$ |\n",
    "| 11            | $\\frac{\\partial v_\\theta}{\\partial r}$ |\n",
    "| 20            | $\\frac{\\partial v_\\theta}{\\partial \\theta}$ |\n",
    "| 29            | $\\frac{\\partial v_\\theta}{\\partial \\phi}$ |\n",
    "| 12            | $\\frac{\\partial v_\\phi}{\\partial r}$ |\n",
    "| 21            | $\\frac{\\partial v_\\phi}{\\partial \\theta}$ |\n",
    "| 30            | $\\frac{\\partial v_\\phi}{\\partial \\phi}$ |\n",
    "\n",
    "The final *main_input* file should look like this:\n",
    "```\n",
    "&problemsize_namelist\n",
    " l_max = 31\n",
    " domain_bounds = 0.53846153846153832d0, 1.04d0, 1.34d0, 1.5384615384615383d0\n",
    " ncheby = 24,16,14\n",
    " dealias_by = 6,4,2\n",
    "/\n",
    "&numerical_controls_namelist\n",
    "/\n",
    "&physical_controls_namelist\n",
    " benchmark_mode = 1\n",
    " benchmark_integration_interval = 100\n",
    " benchmark_report_interval = 5000\n",
    "/\n",
    "&temporal_controls_namelist\n",
    " max_iterations = 25000\n",
    " checkpoint_interval = 100000\n",
    " quicksave_interval = 10000\n",
    " num_quicksaves = 2\n",
    "/\n",
    "&io_controls_namelist\n",
    "/\n",
    "&output_namelist\n",
    " shellavg_values = 1,2,3,10,19,28,11,20,29,12,21,30\n",
    " shellavg_frequency = 2500\n",
    " shellavg_nrec = 10\n",
    "\n",
    " shellslice_values = 1,2,3,10,19,28,11,20,29,12,21,30\n",
    " shellslice_frequency = 2500\n",
    " shellslice_nrec = 10\n",
    " shellslice_levels_nrm = 0.5, 0.67, 0.8, 0.9\n",
    "\n",
    " shellspectra_values = 1,2,3,10,19,28,11,20,29,12,21,30\n",
    " shellspectra_frequency = 2500\n",
    " shellspectra_nrec = 10\n",
    " shellspectra_levels_nrm = 0.5, 0.67, 0.8, 0.9\n",
    "\n",
    " azavg_values = 1,2,3,10,19,28,11,20,29,12,21,30\n",
    " azavg_frequency = 2500\n",
    " azavg_nrec = 30\n",
    "/\n",
    "\n",
    "&Boundary_Conditions_Namelist\n",
    "/\n",
    "&Initial_Conditions_Namelist\n",
    "/\n",
    "&Test_Namelist\n",
    "/\n",
    "&Reference_Namelist\n",
    "/\n",
    "&Transport_Namelist\n",
    "/\n",
    "```"
   ]
  },
  {
   "cell_type": "markdown",
   "id": "8b08570b",
   "metadata": {},
   "source": [
    "## Run Rayleigh to generate the code\n",
    "Now that the *main_input* file has been properly configured, it is time to run Rayleigh and generate some data. The benchmark case should run to completion rather quickly. If a faster result is required, the *max_iterations* can be lowered, but be sure to change the *_frequency* and *_nrec* variables in each output quantity. \n",
    "\n",
    "**Remember:** the whole point of this exercise concerning the *main_input* file is to generate specific diagnostic quantities. The simulation does not need to run until completion; 25000 iterations was chosen because that is what the minimal input file uses, so there would be less editing of the input file."
   ]
  },
  {
   "cell_type": "markdown",
   "id": "d87e2ff6",
   "metadata": {},
   "source": [
    "# II. Extracting the Data\n",
    "After generating the data, it must be read into python. You must ensure that the *rayleigh_diagnostics.py* file can be imported into python: either adjust your PYTHONPATH or copy the *rayleigh_diagnostics.py* file into your working directory.\n",
    "\n",
    "The *spectral_utils.py* file will also be needed (it lives in the same directory as *rayleigh_diagnostics*.py), set your PYTHONPATH or copy this file to the working directory as well.\n",
    "\n",
    "We will be reading AZ_Avgs, Shell_Avgs, Shell_Spectra, and Shell_Slices data."
   ]
  },
  {
   "cell_type": "code",
   "execution_count": null,
   "id": "1d0a57c2",
   "metadata": {},
   "outputs": [],
   "source": [
    "%matplotlib inline\n",
    "from rayleigh_diagnostics import Shell_Avgs, AZ_Avgs, Shell_Slices, Shell_Spectra\n",
    "import spectral_utils as SU\n",
    "import matplotlib.pyplot as plt\n",
    "import numpy as np\n",
    "import os"
   ]
  },
  {
   "cell_type": "markdown",
   "id": "cc4ab00f",
   "metadata": {},
   "source": [
    "If modifications were made to *max_iterations*, the *_frequency* values, or the *_nrec* values, then the following paths to the output files will need to be changed for your particular case."
   ]
  },
  {
   "cell_type": "code",
   "execution_count": null,
   "id": "67c4f1b7",
   "metadata": {},
   "outputs": [],
   "source": [
    "data_dir = \"/home/orvedahl/cueball/Rayleigh-Runs/Testing/Spectral-Operations/\"\n",
    "shavg_itr  = \"00025000\"\n",
    "azavg_itr  = \"00025000\"\n",
    "shslc_itr  = \"00025000\"\n",
    "shspec_itr = \"00025000\""
   ]
  },
  {
   "cell_type": "code",
   "execution_count": null,
   "id": "5698761d",
   "metadata": {},
   "outputs": [],
   "source": [
    "shavg = Shell_Avgs(os.path.join(data_dir, \"Shell_Avgs\", shavg_itr), path='')\n",
    "azavg = AZ_Avgs(os.path.join(data_dir, \"AZ_Avgs\", azavg_itr), path='')\n",
    "shslc = Shell_Slices(os.path.join(data_dir, \"Shell_Slices\", shslc_itr), path='')\n",
    "shspec = Shell_Spectra(os.path.join(data_dir, \"Shell_Spectra\", shspec_itr), path='')"
   ]
  },
  {
   "cell_type": "markdown",
   "id": "ac5645cf",
   "metadata": {},
   "source": [
    "Set some useful values for interfacing with the lookup table and extract some basic resolution data"
   ]
  },
  {
   "cell_type": "code",
   "execution_count": null,
   "id": "a5dc3650",
   "metadata": {},
   "outputs": [],
   "source": [
    "vel_inds = [1,2,3]\n",
    "dr_inds  = [10,11,12]\n",
    "dth_inds = [19,20,21]\n",
    "dp_inds  = [28,29,30]\n",
    "\n",
    "nth = shslc.ntheta\n",
    "nphi = shslc.nphi"
   ]
  },
  {
   "cell_type": "markdown",
   "id": "78395c7a",
   "metadata": {},
   "source": [
    "# III. Using the Spectral Objects\n",
    "The *spectral_utils.py* file contains 4 classes:\n",
    "\n",
    "1. *Fourier*\n",
    "2. *Legendre*\n",
    "3. *Chebyshev*\n",
    "4. *SHT*\n",
    "\n",
    "Each will be explored in turn.\n",
    "\n",
    "## 1) Fourier\n",
    "The *Fourier* class is designed to compute Fourier transforms of Rayleigh data. It also provides a method to compute derivatives with respect to phi/longitude.\n",
    "\n",
    "It is initialized by supplying the resolution in the phi direction"
   ]
  },
  {
   "cell_type": "code",
   "execution_count": null,
   "id": "a27f19e9",
   "metadata": {},
   "outputs": [],
   "source": [
    "F = SU.Fourier(nphi)"
   ]
  },
  {
   "cell_type": "markdown",
   "id": "e503372a",
   "metadata": {},
   "source": [
    "Extract the velocity and theta/phi derivatives of the velocity from the Rayleigh data"
   ]
  },
  {
   "cell_type": "code",
   "execution_count": null,
   "id": "39522c80",
   "metadata": {},
   "outputs": [],
   "source": [
    "vel  = shslc.vals[:,:,:,shslc.lut[vel_inds],:] # shape (nphi,nth,nradii,3,ntime)\n",
    "dvdt = shslc.vals[:,:,:,shslc.lut[dth_inds],:]\n",
    "dvdp = shslc.vals[:,:,:,shslc.lut[ dp_inds],:]"
   ]
  },
  {
   "cell_type": "markdown",
   "id": "13dc8331",
   "metadata": {},
   "source": [
    "Use the *Fourier* object to compute the derivative. The *d_dphi* method can compute the derivative of data that is already in spectral space: the *physical=True* argument specifies that the data is in physical space (the default)."
   ]
  },
  {
   "cell_type": "code",
   "execution_count": null,
   "id": "b302a6aa",
   "metadata": {},
   "outputs": [],
   "source": [
    "phi_deriv = F.d_dphi(vel, axis=0, physical=True)"
   ]
  },
  {
   "cell_type": "markdown",
   "id": "94c684ea",
   "metadata": {},
   "source": [
    "Compute the error compared to the Rayleigh output"
   ]
  },
  {
   "cell_type": "code",
   "execution_count": null,
   "id": "6eccdcbe",
   "metadata": {},
   "outputs": [],
   "source": [
    "error = np.abs(phi_deriv - dvdp)\n",
    "print(\"Max d/dphi error = {}\".format(np.max(error)))\n",
    "print(\"Avg d/dphi error = {}\".format(np.mean(error)))"
   ]
  },
  {
   "cell_type": "markdown",
   "id": "0a2229b3",
   "metadata": {},
   "source": [
    "The *Fourier* class can also compute forward and inverse Fourier transforms"
   ]
  },
  {
   "cell_type": "code",
   "execution_count": null,
   "id": "57b94791",
   "metadata": {},
   "outputs": [],
   "source": [
    "hybrid = F.to_spectral(vel, axis=0) # output will have shape (nfreq,nth,nradii,3,ntime)\n",
    "\n",
    "phys = F.to_physical(hybrid, axis=0)\n",
    "\n",
    "error = np.abs(vel - phys)\n",
    "print(\"Max error = {}\".format(np.max(error)))\n",
    "print(\"Avg error = {}\".format(np.mean(error)))"
   ]
  },
  {
   "cell_type": "markdown",
   "id": "1b83c0d6",
   "metadata": {},
   "source": [
    "## 2) Legendre\n",
    "The *Legendre* class is designed to compute Legendre transforms of Rayleigh data. It also provides a method to compute derivatives with respect to theta/co-latitude.\n",
    "\n",
    "It is initialized by supplying the resolution in the theta direction"
   ]
  },
  {
   "cell_type": "code",
   "execution_count": null,
   "id": "ed52ebf0",
   "metadata": {},
   "outputs": [],
   "source": [
    "L = SU.Legendre(nth)"
   ]
  },
  {
   "cell_type": "markdown",
   "id": "24a34036",
   "metadata": {},
   "source": [
    "Use the *Legendre* object to compute the derivative. The *d_dtheta* method can compute the derivative of data that is already in spectral space: the *physical=True* argument specifies that the data is in physical space (the default)."
   ]
  },
  {
   "cell_type": "code",
   "execution_count": null,
   "id": "f8c935b0",
   "metadata": {},
   "outputs": [],
   "source": [
    "#th_deriv = L.d_dtheta(vel, axis=1)\n",
    "th_deriv = SU.ddx(vel, L.theta, axis=1)"
   ]
  },
  {
   "cell_type": "markdown",
   "id": "d1ba15cb",
   "metadata": {},
   "source": [
    "Compute the error compared to the Rayleigh output"
   ]
  },
  {
   "cell_type": "code",
   "execution_count": null,
   "id": "4de75533",
   "metadata": {},
   "outputs": [],
   "source": [
    "error = np.abs(th_deriv - dvdt)\n",
    "print(\"Max d/dth error = {}\".format(np.max(error)))\n",
    "print(\"Avg d/dth error = {}\".format(np.mean(error)))"
   ]
  },
  {
   "cell_type": "markdown",
   "id": "1398e9c4",
   "metadata": {},
   "source": [
    "The *Legendre* class can also compute forward and inverse Legendre transforms"
   ]
  },
  {
   "cell_type": "code",
   "execution_count": null,
   "id": "956e781b",
   "metadata": {},
   "outputs": [],
   "source": [
    "hybrid = L.to_spectral(vel, axis=1)\n",
    "\n",
    "phys = L.to_physical(hybrid, axis=1)\n",
    "\n",
    "error = np.abs(vel - phys)\n",
    "print(\"Max error = {}\".format(np.max(error)))\n",
    "print(\"Avg error = {}\".format(np.mean(error)))"
   ]
  },
  {
   "cell_type": "code",
   "execution_count": null,
   "id": "e9e30e02",
   "metadata": {},
   "outputs": [],
   "source": []
  }
 ],
 "metadata": {
  "kernelspec": {
   "display_name": "Python 3",
   "language": "python",
   "name": "python3"
  },
  "language_info": {
   "codemirror_mode": {
    "name": "ipython",
    "version": 3
   },
   "file_extension": ".py",
   "mimetype": "text/x-python",
   "name": "python",
   "nbconvert_exporter": "python",
   "pygments_lexer": "ipython3",
   "version": "3.9.4"
  }
 },
 "nbformat": 4,
 "nbformat_minor": 5
}
