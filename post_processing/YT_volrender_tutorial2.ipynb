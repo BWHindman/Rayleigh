{
 "cells": [
  {
   "cell_type": "markdown",
   "metadata": {},
   "source": [
    "# Tutorial 2: Converting Spherical Quantities to Cartesian Quantities before Volume Rendering"
   ]
  },
  {
   "cell_type": "markdown",
   "metadata": {},
   "source": [
    "This notebook provides an example of how to take Rayleigh Spherical_3D output quantities (e.g. V_r, V_theta, V_phi or B_r, B_theta, B_phi) and convert them into Cartesian quantities (e.g. V_x, V_y, V_z or B_x, B_y, B_z). This works on Spherical_3D data already interpolated onto a uniform Cartesian grid of NxNxN. This is useful particularly for looking at z quantities or using Cartesian quantities in visualization renderers to map streamlines.\n",
    "\n",
    "Then we show a few simple examples of how to create volume renderings, modify the transfer function, and manipulate the camera angle. \n",
    "\n",
    "\n",
    "## About yt and installing yt\n",
    "*This section is under development*\n",
    "\n",
    "Developed in Python, yt is an analysis and visualization toolkit for volumetric data. To install yt on your machine and activate it, visit this website: [https://yt-project.org/doc/installing.html](https://yt-project.org/doc/installing.html) \n",
    "\n",
    "## Preparing your Rayleigh Spherical_3D output for volume rendering with yt\n",
    "*This section is under development*\n",
    "\n",
    "Rayleigh's Spherical_3D quantities are output in a spherical grid. Many visualization software packages do not fully support spherical grids. One solution is to interpolate the quantities onto a uniform Cartesian grid with dimensions XxYxZ. Quantity values outside the spherical volume are given values of zero and can easily be made transparent using an appropriately chosen tranfer function when rendering the visualization.\n",
    "\n",
    "To prepare your Spherical_3D output: Interpolating Spherical_3D quantities onto a uniform Cartesian grid\n",
    "\n",
    "1. Copy the directory **/Rayleigh/post_processing/kyle_interp** onto your local system\n",
    "2. Compile the executable. We use the gcc compiler: **make -f Makefile.gfortran** \n",
    "3. Create a directory called **vis_test** (or something equally suitable) in which to run the interpolator. Copy the executable **interpolator.app** and the **input** file from **/Rayleigh/post_processing/kyle_interp** there.\n",
    "4. Create a directory in **vis_test** called **Spherical_3D**. In directory **Spherical_3D** copy the 3D spherical output files you wish to interpolate, including the **_grid** file.\n",
    "5. In the input file, modify the uniform radial grid resolution **nr** appropriate for your files, choose the resolution **ncube** of the resulting Cartesian cube, and modify the iteration range. When interpolating a single file, **initial_iteration** and **final_iteration** should be the same.\n",
    "6. Run the interpolation code: **./interpolator.app XXXX** (Where **XXXX** is the four digit quantity code of the quantity you wish to interpolate. For example, to interpolate a radial velocity spherical 3D output of quantity code **0001**, type: **./interpolator.app 0001**) \n",
    "7. If the code executed correctly, you should have a new file in your **/vis_test/Spherical_3D** directory called **_cube**. These files are what you will import into this notebook. \n",
    "8. Copy your new **_cube** files into the directory where you will run this Jupyter Notebook.\n",
    "\n",
    "\n",
    "## Reading in your prepared data and creating simple yt visualizations\n",
    "*This section is under development. There are known issues with YT that need to be resolved.*\n",
    "\n",
    "After (1) your yt installation has been activated and (2) you have interpolated your Rayleigh Spherical_3D output onto a uniform cartesian grid, you are ready to read the data into Python and begin visualizations with yt. \n",
    "\n",
    "First we will start by defining a class to convert Spherical_3D quantites to Cartesian quantities."
   ]
  },
  {
   "cell_type": "code",
   "execution_count": null,
   "metadata": {},
   "outputs": [],
   "source": [
    "# This class converts from Spherical quantities to Cartesian quantities\n",
    "import numpy\n",
    "\n",
    "class cart_field:\n",
    "    def __init__(self,nx, rfile,tfile,pfile):\n",
    "\n",
    "        self.nx = nx\n",
    "        self.nz = nx\n",
    "        self.ny = nx\n",
    "        ny = nx\n",
    "        nz = nx\n",
    "\n",
    "        self.vx = numpy.zeros( (nx,ny,nz), dtype = 'float64' )\n",
    "        self.vy = numpy.zeros( (nx,ny,nz), dtype = 'float64' )\n",
    "        self.vz = numpy.zeros( (nx,ny,nz), dtype = 'float64' )\n",
    "\n",
    "        arr = numpy.fromfile(rfile,dtype='float64')\n",
    "        vr = numpy.reshape(arr,(nx,nx,nx))\n",
    "\n",
    "        arr = numpy.fromfile(tfile,dtype='float64')\n",
    "        vtheta = numpy.reshape(arr,(nx,nx,nx))\n",
    "\n",
    "        arr = numpy.fromfile(pfile,dtype='float64')\n",
    "        vphi = numpy.reshape(arr,(nx,nx,nx))\n",
    "\n",
    "        x = numpy.linspace(-1,1,nx)\n",
    "        y = numpy.linspace(-1,1,nx)\n",
    "        z = numpy.linspace(-1,1,nx)\n",
    "\n",
    "        x2d = numpy.zeros((ny,nx),dtype='float64')\n",
    "        y2d = numpy.zeros((ny,nx),dtype='float64')\n",
    "\n",
    "\n",
    "        # We will generate vx,vy,vz one z-slice at a time.\n",
    "        # Need some 2D support arrays that are functions of x and y\n",
    "\n",
    "        for i in range(ny):\n",
    "            x2d[i,:] = x[:]\n",
    "        for i in range(nx):\n",
    "            y2d[:,i] = y[:]\n",
    "\n",
    "        rcyl = numpy.sqrt(x2d**2 + y2d**2)    # cylindrical radius based on x-y\n",
    "        cosphi = x2d/rcyl   # cosine of angle from x-axis in x-y plane\n",
    "        sinphi = y2d/rcyl   # sine of same angle\n",
    "        \n",
    "        for i in range(nz):\n",
    "            zval = z[i]\n",
    "            r2d = numpy.sqrt(zval**2+ x2d**2+y2d**2)  # spherical radius (at this z)\n",
    "            costheta = zval/r2d  # costheta\n",
    "            sintheta = numpy.sqrt(1.0-costheta**2) #sintheta\n",
    "\n",
    "            # vz = vr*costheta - vtheta*sintheta\n",
    "            self.vz[i,:,:]=vr[i,:,:]*costheta - vtheta[i,:,:]*sintheta\n",
    "\n",
    "            # v_r_cylindrical = vr*sintheta + vtheta*costheta\n",
    "            vrcyl = vr[i,:,:]*sintheta+vtheta[i,:,:]*costheta\n",
    "\n",
    "            #vx = v_r_cylindrical*costheta - vphi*sinphi\n",
    "            self.vx[i,:,:] = vrcyl*cosphi -vphi[i,:,:]*sinphi\n",
    "\n",
    "            # vy = vrcyl*sinphi + vphi*cosphi\n",
    "            self.vy[i,:,:] = vrcyl*sinphi + vphi[i,:,:]*cosphi"
   ]
  },
  {
   "cell_type": "markdown",
   "metadata": {},
   "source": [
    "Read in the interpolated data files and perform the Cartesian conversion."
   ]
  },
  {
   "cell_type": "code",
   "execution_count": null,
   "metadata": {},
   "outputs": [],
   "source": [
    "#This reads in the cubed data files\n",
    "#All cube data has been interpolated onto a uniform cartesian grid with dimensions 128x128x128\n",
    "rfile = '32600001_0001_cube' #V_r\n",
    "tfile = '32600001_0002_cube' #V_theta\n",
    "pfile = '32600001_0003_cube' #V_phi\n",
    "\n",
    "velocity = cart_field(128,rfile,tfile,pfile) #Although labeled as 'velocity', B fields can be used here instead"
   ]
  },
  {
   "cell_type": "markdown",
   "metadata": {},
   "source": [
    "Load the data into YT for volume rendering and create a YT scene."
   ]
  },
  {
   "cell_type": "code",
   "execution_count": null,
   "metadata": {},
   "outputs": [],
   "source": [
    "import yt\n",
    "import numpy as np\n",
    "\n",
    "cube = velocity.vz #Choose the quantity you want to volume render, here vz \n",
    "nx = 128\n",
    "data = dict(velocity = (cube, \"cm/s\"))\n",
    "bbox = numpy.array([[-1.5, 1.5], [-1.5, 1.5], [-1.5, 1.5]]) #Define a bounding box\n",
    "ds = yt.load_uniform_grid(data, cube.shape, bbox=bbox, nprocs=nx) #Load a cube into YT\n",
    "sc = yt.create_scene(ds, field=('velocity')) #Set up a basic Scene in YT\n",
    "maxup = np.amax(cube)\n",
    "minup = np.amin(cube)\n",
    "print (maxup, minup) #Print min and max values in cube"
   ]
  },
  {
   "cell_type": "markdown",
   "metadata": {},
   "source": [
    "Show the volume rendering and plot the default transfer function."
   ]
  },
  {
   "cell_type": "code",
   "execution_count": null,
   "metadata": {},
   "outputs": [],
   "source": [
    "sc.show() #Show the scene\n",
    "source = sc[0]\n",
    "source.tfh.plot(profile_field='velocity') #Plot the default transfer function with the field quantity histogram."
   ]
  },
  {
   "cell_type": "markdown",
   "metadata": {},
   "source": [
    "Let's create a custom transfer function and plot it. The method outlined below is closer to that of an isosurface render."
   ]
  },
  {
   "cell_type": "code",
   "execution_count": null,
   "metadata": {},
   "outputs": [],
   "source": [
    "#Let's try to render the scene with a new tranfer function that we define ourselves\n",
    "source = sc[0]\n",
    "\n",
    "source.set_field('velocity')\n",
    "source.set_log(False) #Enforce a linear space - appears to work for the transfer function, but not for volume render\n",
    "\n",
    "#Set the quantity bounds over which to apply the colormap \n",
    "bounds = (0., 300.)\n",
    "\n",
    "#Set the bounds of the transfer function\n",
    "tf = yt.ColorTransferFunction(bounds) \n",
    "\n",
    "#This is how to add new opacity points to the colormap with a gaussian shape\n",
    "tf.sample_colormap(50., w=50., colormap='arbre', alpha = 0.25) #Gaussian centered at 50, width 50, and alpha of 0.25\n",
    "tf.sample_colormap(100., w=50., colormap='arbre')\n",
    "tf.sample_colormap(200., w=50., colormap='arbre', alpha = 1.5)\n",
    "tf.sample_colormap(300., w=50., colormap='arbre')\n",
    "\n",
    "source.tfh.tf = tf\n",
    "source.tfh.bounds = bounds\n",
    "\n",
    "source.tfh.plot(profile_field='velocity') #Plot the new transfer function"
   ]
  },
  {
   "cell_type": "markdown",
   "metadata": {},
   "source": [
    "Now render the scene with the new transfer function applied."
   ]
  },
  {
   "cell_type": "code",
   "execution_count": null,
   "metadata": {},
   "outputs": [],
   "source": [
    "# Grab the first render source and set it to use the new transfer function\n",
    "render_source = sc.get_source()\n",
    "render_source.transfer_function = tf\n",
    "\n",
    "sc.render()\n",
    "sc.show(sigma_clip=2.0) #Attempt a better contrast with sigma clipping"
   ]
  },
  {
   "cell_type": "markdown",
   "metadata": {},
   "source": [
    "Render the same scene but looking down from the North pole. To accomplish this, we must move the camera."
   ]
  },
  {
   "cell_type": "code",
   "execution_count": null,
   "metadata": {},
   "outputs": [],
   "source": [
    "# Try to change view to see something more interesting\n",
    "# pitch the camera by pi / 4 radians:\n",
    "sc.camera.pitch(np.pi/4.0) #observe from pole - move camera. \n",
    "#Note that every time this is run, the camera will move again by pi/4.\n",
    "\n",
    "sc.render()\n",
    "sc.show(sigma_clip=2.0)"
   ]
  },
  {
   "cell_type": "code",
   "execution_count": null,
   "metadata": {},
   "outputs": [],
   "source": []
  }
 ],
 "metadata": {
  "kernelspec": {
   "display_name": "Python 3",
   "language": "python",
   "name": "python3"
  },
  "language_info": {
   "codemirror_mode": {
    "name": "ipython",
    "version": 3
   },
   "file_extension": ".py",
   "mimetype": "text/x-python",
   "name": "python",
   "nbconvert_exporter": "python",
   "pygments_lexer": "ipython3",
   "version": "3.6.3"
  }
 },
 "nbformat": 4,
 "nbformat_minor": 2
}
