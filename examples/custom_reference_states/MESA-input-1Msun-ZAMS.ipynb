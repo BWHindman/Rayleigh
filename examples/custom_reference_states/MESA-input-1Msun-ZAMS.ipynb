{
 "cells": [
  {
   "cell_type": "markdown",
   "metadata": {},
   "source": [
    "This script will take a MESA stellar evoltion profile and convert it into a format that can be read in as a custom reference state in Rayleigh. You will need the `rayleigh_diagnostics.py`, `reference_tools.py`, and `mesa.py` files. You will also need a suitable MESA profile file, such as `mesa.prof`."
   ]
  },
  {
   "cell_type": "code",
   "execution_count": null,
   "metadata": {},
   "outputs": [],
   "source": [
    "import numpy as np\n",
    "import matplotlib.pyplot as plt\n",
    "import scipy.interpolate as spi\n",
    "import scipy.integrate as spint\n",
    "import scipy.signal as spsig\n",
    "import reference_tools as rt\n",
    "import sys\n",
    "import rayleigh_diagnostics as rd\n",
    "import mesa\n",
    "%matplotlib inline"
   ]
  },
  {
   "cell_type": "code",
   "execution_count": null,
   "metadata": {},
   "outputs": [],
   "source": [
    "def interp(r, v):\n",
    "    prad = 10**p.logR[::-1] * mesa.rsol\n",
    "    return np.interp(r, prad, v[::-1])"
   ]
  },
  {
   "cell_type": "markdown",
   "metadata": {},
   "source": [
    "Set the `work_dir` variable to the location of the Python files listed above and MESA profile you would like to use."
   ]
  },
  {
   "cell_type": "code",
   "execution_count": null,
   "metadata": {},
   "outputs": [],
   "source": [
    "work_dir = '/Users/njnelson/Research/Rayleigh/Rayleigh/tmp'\n",
    "sys.path.append(work_dir)"
   ]
  },
  {
   "cell_type": "code",
   "execution_count": null,
   "metadata": {},
   "outputs": [],
   "source": [
    "p = mesa.profile('profile17.data')"
   ]
  },
  {
   "cell_type": "markdown",
   "metadata": {},
   "source": [
    "Choose a suitable number of radial grid points. They do not need to be regularly spaced. You should err on the side of high resolution since Rayleigh's Chebyshev domains have very fine grid spacing at the top and bottom of the domain."
   ]
  },
  {
   "cell_type": "code",
   "execution_count": null,
   "metadata": {},
   "outputs": [],
   "source": [
    "nr = 5000\n",
    "r0 = 4.55e10 # in cm\n",
    "r1 = 6.00e10 # in cm\n",
    "radius = np.linspace(r0, r1, nr)"
   ]
  },
  {
   "cell_type": "markdown",
   "metadata": {},
   "source": [
    "From the MESA model, Rayleigh will need the density, buoyancy function $ \\rho g / C_P$, temperature, vicoscity, thermal diffusion, electrical resistivity (for magnetic cases), heating profile (for cases with $Q \\ne 0$), entropy gradient (for cases with reference state advection). Note that MESA radial indicies start at the bottom, while Rayleigh radial indicies start at the top."
   ]
  },
  {
   "cell_type": "code",
   "execution_count": null,
   "metadata": {},
   "outputs": [],
   "source": [
    "r_MESA = p.rmid*mesa.rsol\n",
    "density = interp(radius, 10**p.logRho)\n",
    "temperature = interp(radius, 10**p.logT)\n",
    "grav = interp(radius, p.grav)\n",
    "cp = interp(radius, p.cp)\n",
    "buoy = density * grav / cp\n",
    "nu = 1e14 * np.ones_like(radius)\n",
    "kappa = 1e14 * np.ones_like(radius)\n",
    "eta = 1e14 * np.ones_like(radius)\n",
    "hprofile = np.zeros_like(radius)"
   ]
  },
  {
   "cell_type": "markdown",
   "metadata": {},
   "source": [
    "*WARNING* You should be very careful how you think about the entropy gradient when moving from MESA to Rayleigh due to the differing equations of state. We have provided an example that simply takes the density and pressure from MESA and uses Rayleigh's equation of state to compute an entropy gradient, however this will *not* be consistent with the entropy gradient computed by MESA. BE YE WARNED!\n",
    "\n",
    "For example, the entropy gradient below is not very smooth, which may or may not be a problem for Rayleigh. We can smooth it if desired, as shown below."
   ]
  },
  {
   "cell_type": "code",
   "execution_count": null,
   "metadata": {},
   "outputs": [],
   "source": [
    "gamma_ideal = 5.0/3.0\n",
    "dsdr_MESA = -p.cp*(1.0/gamma_ideal*np.gradient(p.logP, r_MESA) - np.gradient(p.logRho,r_MESA))\n",
    "dsdr = interp(radius, dsdr_MESA)\n",
    "\n",
    "plt.plot(radius, dsdr, '-b')\n",
    "plt.plot(r_MESA, dsdr_MESA, '-g')\n",
    "plt.xlim([r0, r1])\n",
    "plt.ylim([-2.0e-3, 1.0e-4])\n",
    "\n",
    "n_win = 201\n",
    "smooth_win = spsig.hann(n_win)\n",
    "temp = spsig.convolve(dsdr, smooth_win, mode='same')/sum(smooth_win)\n",
    "dsdr[(n_win-1)//2:-(n_win-1)//2] = temp[(n_win-1)//2:-(n_win-1)//2]\n",
    "print(len(dsdr))\n",
    "plt.plot(radius, dsdr, '-r')"
   ]
  },
  {
   "cell_type": "markdown",
   "metadata": {},
   "source": [
    "*ANOTHER WARNING* You should be very careful with radiative luminosity and/or nuclear energy generation. There are a number of ways to compute the heating functions you need. For this example, we have chosen to simply compute the luminosity profile needed for flux balance if the convective transport matches the values from MESA."
   ]
  },
  {
   "cell_type": "code",
   "execution_count": null,
   "metadata": {},
   "outputs": [],
   "source": [
    "q_rad = -np.gradient((p.luminosity - p.conv_L_div_L*p.luminosity)*mesa.solarlum, r_MESA)/(4.0*np.pi*r_MESA**2)\n",
    "heatingp = interp(radius, q_rad)\n",
    "luminosity = np.trapz(4.0*np.pi*radius**2*heatingp, radius)\n",
    "heaitngp = heatingp/luminosity"
   ]
  },
  {
   "cell_type": "markdown",
   "metadata": {},
   "source": [
    "Plot the density from MESA and the newly interpolated density that will be fed into Rayleigh to make sure they are consistent."
   ]
  },
  {
   "cell_type": "code",
   "execution_count": null,
   "metadata": {},
   "outputs": [],
   "source": [
    "plt.plot(radius, density)\n",
    "plt.plot(p.rmid[::-1] * mesa.rsol, 10**p.logRho[::-1])\n",
    "plt.xlabel('Radius (cm)')\n",
    "plt.ylabel(r'Desnity (g/cm$^3$)')"
   ]
  },
  {
   "cell_type": "markdown",
   "metadata": {},
   "source": [
    "Now create the data structure that will be written to a file that Rayleigh can read, and then load in the needed radial functions."
   ]
  },
  {
   "cell_type": "code",
   "execution_count": null,
   "metadata": {},
   "outputs": [],
   "source": [
    "my_ref = rt.equation_coefficients(radius)\n",
    "\n",
    "my_ref.set_function(density,'density')\n",
    "my_ref.set_function(buoy,'buoy')\n",
    "my_ref.set_function(nu,'nu')\n",
    "my_ref.set_function(temperature,'temperature')\n",
    "my_ref.set_function(kappa,'kappa')\n",
    "my_ref.set_function(hprofile,'heating')\n",
    "my_ref.set_function(eta,'eta')\n",
    "my_ref.set_function(dsdr,'ds_dr')\n",
    "\n",
    "my_ref.set_constant(luminosity,'luminosity')"
   ]
  },
  {
   "cell_type": "code",
   "execution_count": null,
   "metadata": {},
   "outputs": [],
   "source": [
    "file_write='cref_from_MESA.dat'\n",
    "my_ref.write(file_write)"
   ]
  },
  {
   "cell_type": "markdown",
   "metadata": {},
   "source": [
    "Now you can use this file to run a Rayleigh model. Once your Rayleigh model has run you can use the ``reference`` and  ``transport`` files to check how your specified reference state looks when transfered into Rayleigh."
   ]
  },
  {
   "cell_type": "code",
   "execution_count": null,
   "metadata": {},
   "outputs": [],
   "source": [
    "#Once you're run for one time step, set have_run = True\n",
    "radius1 = radius\n",
    "gravity = grav\n",
    "have_run = True\n",
    "if (have_run):\n",
    "    cref = rd.ReferenceState()\n",
    "    ctrans = rd.TransportCoeffs()\n",
    "    lsun = 1.0\n",
    "    # Use numpy to calculate logarithmic derivatives (check on what Rayleigh is doing...)\n",
    "    #d_density_dr = numpy.gradient(density,radius, edge_order=2)\n",
    "    #dlnrho = d_density_dr/density\n",
    "    #d2lnrho = numpy.gradient(dlnrho,radius, edge_order=2)\n",
    "\n",
    "    #dtdr = numpy.gradient(temperature,radius)\n",
    "    #dlnt = dtdr/temperature\n",
    "    dr = np.gradient(cref.radius)\n",
    "\n",
    "    dP = np.gradient(cref.pressure,cref.radius)\n",
    "    fig, ax = plt.subplots(ncols=3,nrows=3, figsize=(9,3*3))\n",
    "    # Density variables\n",
    "    ax[0][0].plot(cref.radius,cref.density,'yo')\n",
    "    ax[0][0].plot(radius1,density)\n",
    "    ax[0][0].set_xlabel('Radius')\n",
    "    ax[0][0].set_title('Density')\n",
    "    \n",
    "    \n",
    "    ax[0][1].plot(ctrans.radius, ctrans.nu,'yo')\n",
    "    ax[0][1].plot(radius1, nu)\n",
    "    ax[0][1].set_xlabel('Radius')\n",
    "    ax[0][1].set_title(r'$\\nu$')\n",
    "    \n",
    "    ax[0][2].plot(ctrans.radius,ctrans.kappa,'yo')\n",
    "    ax[0][2].plot(radius1,kappa)\n",
    "    ax[0][2].set_xlabel('Radius')\n",
    "    ax[0][2].set_title(r'$\\kappa$')\n",
    "        \n",
    "    ax[1][1].plot(cref.radius,cref.temperature,'yo')\n",
    "    ax[1][1].plot(radius1,temperature)\n",
    "    ax[1][1].set_xlabel('Radius')\n",
    "    ax[1][1].set_title('Temperature')\n",
    "    \n",
    "    ''''\n",
    "    #Activate this if your case is magnetic\n",
    "    ax[1][0].plot(ctrans.radius, ctrans.eta,'yo')\n",
    "    ax[1][0].plot(radius1, eta)\n",
    "    ax[1][0].set_xlabel('Radius')\n",
    "    ax[1][0].set_title(r'$\\eta$')\n",
    "    '''\n",
    "    \n",
    "    ax[2][1].plot(cref.radius, cref.dsdr,'yo')\n",
    "    ax[2][1].plot(radius1, dsdr)\n",
    "    ax[2][1].set_xlabel('Radius')\n",
    "    ax[2][1].set_title('Log entropy gradient')   \n",
    "    \n",
    "    ax[1][2].plot(cref.radius, cref.gravity,'yo')\n",
    "    ax[1][2].plot(radius1, gravity*density/cp)\n",
    "    ax[1][2].set_xlabel('Radius')\n",
    "    ax[1][2].set_title('Gravity')   \n",
    "\n",
    "    ax[2][0].plot(cref.radius, cref.heating,'yo')\n",
    "    ax[2][0].plot(radius1, hprofile/density/temperature*lsun)\n",
    "    ax[2][0].set_xlabel('Radius')\n",
    "    ax[2][0].set_title('Heating')      \n",
    "    \n",
    "    plt.tight_layout()\n",
    "    plt.show()\n"
   ]
  },
  {
   "cell_type": "code",
   "execution_count": null,
   "metadata": {},
   "outputs": [],
   "source": []
  }
 ],
 "metadata": {
  "kernelspec": {
   "display_name": "Python 3",
   "language": "python",
   "name": "python3"
  },
  "language_info": {
   "codemirror_mode": {
    "name": "ipython",
    "version": 3
   },
   "file_extension": ".py",
   "mimetype": "text/x-python",
   "name": "python",
   "nbconvert_exporter": "python",
   "pygments_lexer": "ipython3",
   "version": "3.6.8"
  }
 },
 "nbformat": 4,
 "nbformat_minor": 2
}
